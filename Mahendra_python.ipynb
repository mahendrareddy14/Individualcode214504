{
  "cells": [
    {
      "cell_type": "markdown",
      "metadata": {
        "id": "view-in-github",
        "colab_type": "text"
      },
      "source": [
        "<a href=\"https://colab.research.google.com/github/mahendrareddy14/Individualcode214504/blob/main/Mahendra_python.ipynb\" target=\"_parent\"><img src=\"https://colab.research.google.com/assets/colab-badge.svg\" alt=\"Open In Colab\"/></a>"
      ]
    },
    {
      "cell_type": "code",
      "execution_count": 1,
      "metadata": {
        "id": "OpyzukpWajHk",
        "colab": {
          "base_uri": "https://localhost:8080/"
        },
        "outputId": "7177d437-c812-441f-e1fe-84d45b37a758"
      },
      "outputs": [
        {
          "output_type": "stream",
          "name": "stdout",
          "text": [
            "sairam\n",
            "sai\n",
            "sai\n",
            "karthi\n",
            "98\n"
          ]
        }
      ],
      "source": [
        "print('sairam')\n",
        "print('sai')\n",
        "print (\"sai\")\n",
        "print ('karthi')\n",
        "a =98\n",
        "print (a)"
      ]
    },
    {
      "cell_type": "markdown",
      "metadata": {
        "id": "crvNAy4ka3-W"
      },
      "source": [
        "sairam\n",
        "sai\n",
        "sai\n"
      ]
    },
    {
      "cell_type": "code",
      "execution_count": null,
      "metadata": {
        "id": "NmyQGYLiaLht"
      },
      "outputs": [],
      "source": [
        ""
      ]
    },
    {
      "cell_type": "markdown",
      "metadata": {
        "id": "EvlIhto51RSl"
      },
      "source": [
        "<class 'int'>\n",
        "float"
      ]
    },
    {
      "cell_type": "code",
      "execution_count": null,
      "metadata": {
        "id": "nyVEPlNb1cP7"
      },
      "outputs": [],
      "source": [
        "[ ] float (9)"
      ]
    },
    {
      "cell_type": "markdown",
      "metadata": {
        "id": "PB4WjlRc1kGV"
      },
      "source": [
        "9.0"
      ]
    },
    {
      "cell_type": "code",
      "execution_count": null,
      "metadata": {
        "id": "duH02S1i1nTR"
      },
      "outputs": [],
      "source": [
        "[ ] str(1)"
      ]
    },
    {
      "cell_type": "markdown",
      "metadata": {
        "id": "bGcpSjBA1r6P"
      },
      "source": [
        "'1'"
      ]
    },
    {
      "cell_type": "code",
      "execution_count": null,
      "metadata": {
        "id": "4iTdTFNa1vdf"
      },
      "outputs": [],
      "source": [
        "[ ] True"
      ]
    },
    {
      "cell_type": "markdown",
      "metadata": {
        "id": "Q6oo382O15l6"
      },
      "source": [
        "True"
      ]
    },
    {
      "cell_type": "code",
      "execution_count": null,
      "metadata": {
        "id": "R-XB3VUq17y2"
      },
      "outputs": [],
      "source": [
        "[ ] False"
      ]
    },
    {
      "cell_type": "markdown",
      "metadata": {
        "id": "QidVXSH_1_NW"
      },
      "source": [
        "Flase"
      ]
    },
    {
      "cell_type": "code",
      "execution_count": null,
      "metadata": {
        "id": "nZGj2ABW2BWd"
      },
      "outputs": [],
      "source": [
        "[ ] bool(0)"
      ]
    },
    {
      "cell_type": "markdown",
      "metadata": {
        "id": "tZTX6hfU2HhB"
      },
      "source": [
        "False"
      ]
    },
    {
      "cell_type": "code",
      "execution_count": null,
      "metadata": {
        "id": "KmOemOl1vTtf"
      },
      "outputs": [],
      "source": [
        "[ ] int(False)"
      ]
    },
    {
      "cell_type": "markdown",
      "metadata": {
        "id": "Li6qfj9D2eSM"
      },
      "source": [
        "0"
      ]
    },
    {
      "cell_type": "code",
      "execution_count": null,
      "metadata": {
        "id": "prvPXB5m2gI1"
      },
      "outputs": [],
      "source": [
        " float(True)"
      ]
    },
    {
      "cell_type": "markdown",
      "metadata": {
        "id": "9sZoTLtg2yXB"
      },
      "source": [
        "1.0"
      ]
    },
    {
      "cell_type": "code",
      "execution_count": null,
      "metadata": {
        "id": "AHquel8b20MS"
      },
      "outputs": [],
      "source": [
        " a = 9//2\n",
        "    print(\"coficient is\",a)"
      ]
    },
    {
      "cell_type": "markdown",
      "metadata": {
        "id": "3szZ8c0j3Oum"
      },
      "source": [
        "coficient is 4"
      ]
    },
    {
      "cell_type": "code",
      "execution_count": null,
      "metadata": {
        "colab": {
          "base_uri": "https://localhost:8080/"
        },
        "id": "nG9xJr2j3SaT",
        "outputId": "c8c65c22-e1c9-401c-9657-d2da0552a155"
      },
      "outputs": [
        {
          "output_type": "stream",
          "name": "stdout",
          "text": [
            "1\n"
          ]
        }
      ],
      "source": [
        "p = 9%2\n",
        "print (p) "
      ]
    },
    {
      "cell_type": "markdown",
      "metadata": {
        "id": "GIBiuvgX3cMa"
      },
      "source": [
        "1\n",
        "int"
      ]
    },
    {
      "cell_type": "code",
      "execution_count": null,
      "metadata": {
        "id": "pn-isy_D3fZs"
      },
      "outputs": [],
      "source": [
        " a = type (99)\n",
        "    print (a)\n",
        "    type (9.3)"
      ]
    },
    {
      "cell_type": "markdown",
      "metadata": {
        "id": "uwvEnLJu30wH"
      },
      "source": [
        "<class 'int'>\n",
        "float"
      ]
    },
    {
      "cell_type": "code",
      "execution_count": null,
      "metadata": {
        "id": "8oNkYWia39jQ"
      },
      "outputs": [],
      "source": [
        "int(False)"
      ]
    },
    {
      "cell_type": "markdown",
      "metadata": {
        "id": "Q4bEpc3a4VK7"
      },
      "source": [
        "0"
      ]
    },
    {
      "cell_type": "code",
      "execution_count": null,
      "metadata": {
        "id": "0USxF-FD4XjS"
      },
      "outputs": [],
      "source": [
        "name = \"mahendra\"\n",
        "print (name[2])"
      ]
    },
    {
      "cell_type": "markdown",
      "metadata": {
        "id": "bBM3lZph4h_t"
      },
      "source": [
        "r"
      ]
    },
    {
      "cell_type": "code",
      "execution_count": null,
      "metadata": {
        "id": "6EwHpv-_4jIp"
      },
      "outputs": [],
      "source": [
        "print (name[-5])"
      ]
    },
    {
      "cell_type": "markdown",
      "metadata": {
        "id": "RdWzspJ34ruf"
      },
      "source": [
        "r"
      ]
    },
    {
      "cell_type": "code",
      "execution_count": null,
      "metadata": {
        "id": "lcaaYlMb4tAa"
      },
      "outputs": [],
      "source": [
        "len ('mahendra')"
      ]
    },
    {
      "cell_type": "markdown",
      "metadata": {
        "id": "I6qqOttv40yQ"
      },
      "source": [
        "8"
      ]
    },
    {
      "cell_type": "code",
      "execution_count": null,
      "metadata": {
        "id": "04UwQbh042EB"
      },
      "outputs": [],
      "source": [
        "name [0:4]"
      ]
    },
    {
      "cell_type": "markdown",
      "metadata": {
        "id": "y41BfyRT5PQi"
      },
      "source": [
        "mahe"
      ]
    },
    {
      "cell_type": "code",
      "execution_count": null,
      "metadata": {
        "id": "zIchM4If5TNP"
      },
      "outputs": [],
      "source": [
        "name [::2]"
      ]
    },
    {
      "cell_type": "markdown",
      "metadata": {
        "id": "yTYpNzHA5Xti"
      },
      "source": [
        "'mhnr'"
      ]
    },
    {
      "cell_type": "code",
      "execution_count": null,
      "metadata": {
        "id": "OiEctagr5nb-"
      },
      "outputs": [],
      "source": [
        "name [0:5:3]"
      ]
    },
    {
      "cell_type": "markdown",
      "metadata": {
        "id": "pHX6UqwS5wDR"
      },
      "source": [
        "me"
      ]
    },
    {
      "cell_type": "code",
      "execution_count": null,
      "metadata": {
        "id": "VR2ZM1ex6AnD"
      },
      "outputs": [],
      "source": [
        "print (name +  \"king\")"
      ]
    },
    {
      "cell_type": "markdown",
      "metadata": {
        "id": "SNtfT-Be6Jcu"
      },
      "source": [
        "mahendraking"
      ]
    },
    {
      "cell_type": "code",
      "execution_count": null,
      "metadata": {
        "id": "CgaEfHOC6Mpv"
      },
      "outputs": [],
      "source": [
        "b = 23\n",
        "h =89\n",
        "area = 1/2*b*h\n",
        "print (area)"
      ]
    },
    {
      "cell_type": "markdown",
      "metadata": {
        "id": "HT2flNJ16dMY"
      },
      "source": [
        "1023.5"
      ]
    },
    {
      "cell_type": "code",
      "execution_count": null,
      "metadata": {
        "id": "7cLk4iu56f4M"
      },
      "outputs": [],
      "source": [
        "name1 = \"Earth revolves around the sun \"\n",
        "print (name1 [6:15] )\n",
        "      "
      ]
    },
    {
      "cell_type": "markdown",
      "metadata": {
        "id": "Mb2jcdk87eNL"
      },
      "source": [
        "revolves"
      ]
    },
    {
      "cell_type": "code",
      "execution_count": null,
      "metadata": {
        "id": "rEPPHSdL7kX-"
      },
      "outputs": [],
      "source": [
        "name1 [-4:-1]"
      ]
    },
    {
      "cell_type": "markdown",
      "metadata": {
        "id": "eQv8PDW07r1m"
      },
      "source": [
        "'sun'"
      ]
    },
    {
      "cell_type": "code",
      "execution_count": null,
      "metadata": {
        "id": "zSuriqdc7uQR"
      },
      "outputs": [],
      "source": [
        "name2 = \"I love eating\"\n",
        "name3 = \" veggies\"\n",
        "name4 = \" fruits\"\n",
        "print (name2 + name3 + \"and\" + name4)"
      ]
    },
    {
      "cell_type": "markdown",
      "metadata": {
        "id": "y62v4MPP8lYL"
      },
      "source": [
        "I love eating veggies and fruits"
      ]
    },
    {
      "cell_type": "code",
      "execution_count": null,
      "metadata": {
        "id": "j0sGHaeX8tlc"
      },
      "outputs": [],
      "source": [
        "num = \" 4 \"\n",
        "print (name2 + num + name4 + \"everyday\")\n",
        "       \n",
        "       "
      ]
    },
    {
      "cell_type": "markdown",
      "metadata": {
        "id": "JfTgdP4e9SUo"
      },
      "source": [
        "I love eating 4 fruits everyday"
      ]
    },
    {
      "cell_type": "code",
      "execution_count": null,
      "metadata": {
        "id": "0f29zwPP9Z_R"
      },
      "outputs": [],
      "source": [
        "p = float (input ( 'p =  '))\n",
        "t = float (input ( 't = '))\n",
        "r = float (input ( 'r =  '))\n",
        "ptr = ((t - p)* 100) / (p* r)\n",
        "print (ptr)"
      ]
    },
    {
      "cell_type": "markdown",
      "metadata": {
        "id": "CYyvuqklANNt"
      },
      "source": [
        "p = 4\n",
        "t = 10\n",
        "r =  50\n",
        "3.0"
      ]
    },
    {
      "cell_type": "code",
      "execution_count": null,
      "metadata": {
        "id": "G_A-6Xo1AV1x"
      },
      "outputs": [],
      "source": [
        "cost = 5\n",
        "paid = 10\n",
        "returns = (paid - cost)\n",
        "print (returns)"
      ]
    },
    {
      "cell_type": "markdown",
      "metadata": {
        "id": "AOv3owPCBY3u"
      },
      "source": [
        "5"
      ]
    },
    {
      "cell_type": "code",
      "execution_count": null,
      "metadata": {
        "id": "GCWPasQRBaxg"
      },
      "outputs": [],
      "source": [
        "2 * (3 + 9) / 5"
      ]
    },
    {
      "cell_type": "markdown",
      "metadata": {
        "id": "Ou_W39ZBBtdz"
      },
      "source": [
        "4.8"
      ]
    },
    {
      "cell_type": "code",
      "execution_count": null,
      "metadata": {
        "id": "mGUf3W3iBu_W"
      },
      "outputs": [],
      "source": [
        "5 // ( 4 + 5) % 4"
      ]
    },
    {
      "cell_type": "markdown",
      "metadata": {
        "id": "SQRxLhfHEOoU"
      },
      "source": [
        "0"
      ]
    },
    {
      "cell_type": "code",
      "execution_count": null,
      "metadata": {
        "id": "FVob9wM4EPz5"
      },
      "outputs": [],
      "source": [
        "2 * 3 + 9 / 5"
      ]
    },
    {
      "cell_type": "markdown",
      "metadata": {
        "id": "En2iw9tNEafj"
      },
      "source": [
        "7.8"
      ]
    },
    {
      "cell_type": "code",
      "execution_count": null,
      "metadata": {
        "colab": {
          "base_uri": "https://localhost:8080/"
        },
        "id": "g3eK_UvvEcnn",
        "outputId": "80a4efbf-5c8c-43de-bb21-60d45027f6e2"
      },
      "outputs": [
        {
          "name": "stdout",
          "output_type": "stream",
          "text": [
            "R = 4\n",
            "Larger Time = 10\n",
            "Shorter Time = 3\n",
            "Difference between interests : 4\n",
            "700.0\n"
          ]
        }
      ],
      "source": [
        "r = float(input('R = ')) \n",
        "t1 = float(input('Larger Time = ')) \n",
        "t2 = float(input('Shorter Time = ')) \n",
        "dif = float(input('Difference between interests : '))\n",
        "\n",
        "si1 = (p*r*t1)/100\n",
        "si2 = (p*r*t2)/100\n",
        "p = (dif / r * (t1 - t2)) * 100\n",
        "print(p)"
      ]
    },
    {
      "cell_type": "code",
      "execution_count": null,
      "metadata": {
        "colab": {
          "base_uri": "https://localhost:8080/"
        },
        "id": "gDOrecuP5AMV",
        "outputId": "396e2dd1-4a03-4b51-d048-5756686c1889"
      },
      "outputs": [
        {
          "data": {
            "text/plain": [
              "512"
            ]
          },
          "execution_count": 14,
          "metadata": {},
          "output_type": "execute_result"
        }
      ],
      "source": [
        "2 ** (3*3)\n"
      ]
    },
    {
      "cell_type": "code",
      "execution_count": null,
      "metadata": {
        "colab": {
          "base_uri": "https://localhost:8080/"
        },
        "id": "lbxUfx5Ltequ",
        "outputId": "c16c5677-cdf0-4a84-c39a-44daa804ef0d"
      },
      "outputs": [
        {
          "data": {
            "text/plain": [
              "8"
            ]
          },
          "execution_count": 15,
          "metadata": {},
          "output_type": "execute_result"
        }
      ],
      "source": [
        "2**3"
      ]
    },
    {
      "cell_type": "code",
      "execution_count": null,
      "metadata": {
        "colab": {
          "base_uri": "https://localhost:8080/"
        },
        "id": "DOdPTj_fIKBs",
        "outputId": "d1e5f4e9-af5e-4f51-808c-e0491f9996bf"
      },
      "outputs": [
        {
          "data": {
            "text/plain": [
              "True"
            ]
          },
          "execution_count": 16,
          "metadata": {},
          "output_type": "execute_result"
        }
      ],
      "source": [
        "1 > 0"
      ]
    },
    {
      "cell_type": "code",
      "execution_count": null,
      "metadata": {
        "colab": {
          "base_uri": "https://localhost:8080/"
        },
        "id": "HRqzs_VqIOnc",
        "outputId": "41d842f2-5055-4c94-f0a6-b9b339792260"
      },
      "outputs": [
        {
          "data": {
            "text/plain": [
              "False"
            ]
          },
          "execution_count": 17,
          "metadata": {},
          "output_type": "execute_result"
        }
      ],
      "source": [
        "# and operator true and true will be true\n",
        "# and operator true and false will be false\n",
        "# and operator false and true will be false\n",
        "# and operator false and false will be false\n",
        "A = True\n",
        "B= False\n",
        "B and B"
      ]
    },
    {
      "cell_type": "code",
      "execution_count": null,
      "metadata": {
        "colab": {
          "base_uri": "https://localhost:8080/",
          "height": 35
        },
        "id": "e5EYvQJlIV4l",
        "outputId": "5ad0f579-05b4-4ce7-8355-a76e3d384203"
      },
      "outputs": [
        {
          "data": {
            "application/vnd.google.colaboratory.intrinsic+json": {
              "type": "string"
            },
            "text/plain": [
              "'hello 1'"
            ]
          },
          "execution_count": 18,
          "metadata": {},
          "output_type": "execute_result"
        }
      ],
      "source": [
        "'hello' + \" 1\""
      ]
    },
    {
      "cell_type": "code",
      "execution_count": null,
      "metadata": {
        "id": "BW4GE_jNLS7q"
      },
      "outputs": [],
      "source": [
        "if 4 > 9 :\n",
        "  print (\"first is greater than 2\")\n",
        "else :\n",
        "   print (\"sencond num is greater thann first\""
      ]
    },
    {
      "cell_type": "markdown",
      "metadata": {
        "id": "QI6uBhrqLbaH"
      },
      "source": [
        "second num is greater than first"
      ]
    },
    {
      "cell_type": "code",
      "execution_count": null,
      "metadata": {
        "id": "4ihvdZY3MCax"
      },
      "outputs": [],
      "source": [
        "if 4 > 9 :"
      ]
    },
    {
      "cell_type": "code",
      "execution_count": null,
      "metadata": {
        "colab": {
          "base_uri": "https://localhost:8080/"
        },
        "id": "77i-asguMD7q",
        "outputId": "9300809c-176b-438c-9313-022c28d8566c"
      },
      "outputs": [
        {
          "name": "stdout",
          "output_type": "stream",
          "text": [
            "Both numbers are equal\n"
          ]
        }
      ],
      "source": [
        "h = 10\n",
        "o = 10\n",
        "if (h == o):\n",
        " print('Both numbers are equal')\n",
        "elif (x>y): \n",
        "      print('The first number is greater than the second one')\n",
        "else:\n",
        "        print(\"The second number is greater than the first one\")"
      ]
    },
    {
      "cell_type": "code",
      "execution_count": null,
      "metadata": {
        "colab": {
          "base_uri": "https://localhost:8080/"
        },
        "id": "JqWSP5GuMKpJ",
        "outputId": "2139c916-72f7-4b09-efac-9b90fed28b76"
      },
      "outputs": [
        {
          "name": "stdout",
          "output_type": "stream",
          "text": [
            "Enter your score\n",
            "78\n",
            "B\n"
          ]
        }
      ],
      "source": [
        "a=float(input(\"Enter your score\\n\"))\n",
        "if(a>=80):\n",
        "    print(\"A\")\n",
        "elif(a>=40 and a<=80):\n",
        "          print(\"B\")\n",
        "else:\n",
        "   print('F')"
      ]
    },
    {
      "cell_type": "markdown",
      "metadata": {
        "id": "OCTEQhw4MaT5"
      },
      "source": [
        "exercise 1 of chap 3"
      ]
    },
    {
      "cell_type": "code",
      "execution_count": null,
      "metadata": {
        "colab": {
          "base_uri": "https://localhost:8080/"
        },
        "id": "IscXtTBtMjwg",
        "outputId": "1f9d4902-2883-4e62-e381-b6826b35e07c"
      },
      "outputs": [
        {
          "name": "stdout",
          "output_type": "stream",
          "text": [
            "Enter Hour\n",
            "35\n",
            "Enter rate\n",
            "10\n",
            "350.0\n"
          ]
        }
      ],
      "source": [
        "k1 = float(input(\"Enter Hour\\n\"))\n",
        "k2 = float(input(\"Enter rate\\n\"))\n",
        "\n",
        "if(k1>40):\n",
        "  k3=(k1-40)*1.5*k2+(40*k2)\n",
        "else:\n",
        "  k3=k1*k2  \n",
        "  \n",
        "print(k3)"
      ]
    },
    {
      "cell_type": "markdown",
      "metadata": {
        "id": "zoDZHPpUM1nm"
      },
      "source": [
        "exercise 2 of chap 3"
      ]
    },
    {
      "cell_type": "code",
      "execution_count": null,
      "metadata": {
        "colab": {
          "base_uri": "https://localhost:8080/"
        },
        "id": "txQ5YfAkM5tq",
        "outputId": "a387ee99-2df4-4b3c-9a99-54904d76bd3d"
      },
      "outputs": [
        {
          "name": "stdout",
          "output_type": "stream",
          "text": [
            "Enter Hour\n",
            "40\n",
            "Enter rate\n",
            "10\n",
            "400.0\n"
          ]
        }
      ],
      "source": [
        "try:\n",
        "   n1 = float(input(\"Enter Hour\\n\"))\n",
        "   n2 = float(input(\"Enter rate\\n\"))\n",
        "\n",
        "   if (n1>40):\n",
        "     n3=(n1-40)*1.5*n2+(40*n2)\n",
        "   else:\n",
        "     n3=n1*n2   \n",
        "     print(n3)\n",
        "except:\n",
        "  print(\"Please enter numeric input\")"
      ]
    },
    {
      "cell_type": "code",
      "execution_count": null,
      "metadata": {
        "colab": {
          "base_uri": "https://localhost:8080/"
        },
        "id": "eiXdH4FkNAf3",
        "outputId": "1e833e75-baa6-4ac9-90bd-8b316ee0c8de"
      },
      "outputs": [
        {
          "name": "stdout",
          "output_type": "stream",
          "text": [
            "Enter your score\n",
            ".87\n",
            "B\n"
          ]
        }
      ],
      "source": [
        "a=float(input(\"Enter your score\\n\"))\n",
        "if(a<0.0 or a>1.0) :\n",
        "  print(\"Score is out of range!!\")\n",
        "elif(a>=0.9):\n",
        "  print(\"A\")\n",
        "elif(a>=0.8):\n",
        "  print(\"B\")\n",
        "elif(a>=0.7):\n",
        "  print(\"C\")\n",
        "elif(a>=0.6):\n",
        "  print(\"D\")      \n",
        "else:\n",
        "  print(\"F\")"
      ]
    },
    {
      "cell_type": "markdown",
      "metadata": {
        "id": "j0ojv6QpNK-9"
      },
      "source": [
        "Leap Year"
      ]
    },
    {
      "cell_type": "code",
      "execution_count": null,
      "metadata": {
        "colab": {
          "base_uri": "https://localhost:8080/"
        },
        "id": "baSPyttfNNm9",
        "outputId": "fd108fb3-9f3a-4362-ddfc-e1c67ba64552"
      },
      "outputs": [
        {
          "name": "stdout",
          "output_type": "stream",
          "text": [
            "Enter the year\n",
            "1996\n",
            "The year is leap year\n"
          ]
        }
      ],
      "source": [
        "a=float(input('Enter the year\\n'))\n",
        "if (a % 4 ==0 and a % 400 == 0 or a != 0):\n",
        "  print('The year is leap year')\n",
        "else:\n",
        "  print('The year is not a leap year')"
      ]
    },
    {
      "cell_type": "code",
      "execution_count": null,
      "metadata": {
        "colab": {
          "base_uri": "https://localhost:8080/"
        },
        "id": "-QCLt_EYNVsl",
        "outputId": "0608226d-1671-4202-acb9-63b15d1e6197"
      },
      "outputs": [
        {
          "name": "stdout",
          "output_type": "stream",
          "text": [
            "The Zen of Python, by Tim Peters\n",
            "\n",
            "Beautiful is better than ugly.\n",
            "Explicit is better than implicit.\n",
            "Simple is better than complex.\n",
            "Complex is better than complicated.\n",
            "Flat is better than nested.\n",
            "Sparse is better than dense.\n",
            "Readability counts.\n",
            "Special cases aren't special enough to break the rules.\n",
            "Although practicality beats purity.\n",
            "Errors should never pass silently.\n",
            "Unless explicitly silenced.\n",
            "In the face of ambiguity, refuse the temptation to guess.\n",
            "There should be one-- and preferably only one --obvious way to do it.\n",
            "Although that way may not be obvious at first unless you're Dutch.\n",
            "Now is better than never.\n",
            "Although never is often better than *right* now.\n",
            "If the implementation is hard to explain, it's a bad idea.\n",
            "If the implementation is easy to explain, it may be a good idea.\n",
            "Namespaces are one honking great idea -- let's do more of those!\n"
          ]
        }
      ],
      "source": [
        "import this"
      ]
    },
    {
      "cell_type": "code",
      "execution_count": null,
      "metadata": {
        "colab": {
          "base_uri": "https://localhost:8080/"
        },
        "id": "v9baSn4rNdkC",
        "outputId": "21a8f500-2609-453a-c9c4-38ad5d61433d"
      },
      "outputs": [
        {
          "name": "stdout",
          "output_type": "stream",
          "text": [
            "hello chunk\n"
          ]
        }
      ],
      "source": [
        "name = \"chunk\"\n",
        "print (\"hello \" + name )"
      ]
    },
    {
      "cell_type": "markdown",
      "metadata": {
        "id": "tL9jTGJ1NmLp"
      },
      "source": [
        "exercise 3 h = number of hours worked ,p = box paid for hour"
      ]
    },
    {
      "cell_type": "code",
      "execution_count": null,
      "metadata": {
        "colab": {
          "base_uri": "https://localhost:8080/"
        },
        "id": "VD1VmoSdN03O",
        "outputId": "82e934fc-6a32-47b2-f7b0-d14aa95f3f4a"
      },
      "outputs": [
        {
          "name": "stdout",
          "output_type": "stream",
          "text": [
            "367.77\n"
          ]
        }
      ],
      "source": [
        "h = 53.3\n",
        "p = 6.9\n",
        "gross = h * p\n",
        "print (gross)"
      ]
    },
    {
      "cell_type": "markdown",
      "metadata": {
        "id": "x2dwndv8N8Hx"
      },
      "source": [
        "exercise 4"
      ]
    },
    {
      "cell_type": "code",
      "execution_count": null,
      "metadata": {
        "colab": {
          "base_uri": "https://localhost:8080/"
        },
        "id": "Xs2FKFqeN-it",
        "outputId": "8ca4ebf2-8219-4588-97db-933ba65c3f59"
      },
      "outputs": [
        {
          "name": "stdout",
          "output_type": "stream",
          "text": [
            "15\n"
          ]
        }
      ],
      "source": [
        "width = 31\n",
        "height = 27.7\n",
        "print (width//2)"
      ]
    },
    {
      "cell_type": "code",
      "execution_count": null,
      "metadata": {
        "colab": {
          "base_uri": "https://localhost:8080/"
        },
        "id": "9TSTC4AKOD-J",
        "outputId": "7f59b7b2-1193-410b-8492-aaa435b9cfcb"
      },
      "outputs": [
        {
          "name": "stdout",
          "output_type": "stream",
          "text": [
            "15.5\n"
          ]
        }
      ],
      "source": [
        "print (width/2.0)"
      ]
    },
    {
      "cell_type": "code",
      "execution_count": null,
      "metadata": {
        "colab": {
          "base_uri": "https://localhost:8080/"
        },
        "id": "Cb8EMi3eOIQx",
        "outputId": "29a86383-a194-4933-de15-5787db184ed2"
      },
      "outputs": [
        {
          "name": "stdout",
          "output_type": "stream",
          "text": [
            "9.233333333333333\n"
          ]
        }
      ],
      "source": [
        "print (height /3)"
      ]
    },
    {
      "cell_type": "code",
      "execution_count": null,
      "metadata": {
        "colab": {
          "base_uri": "https://localhost:8080/"
        },
        "id": "5w6v0yQeOPoS",
        "outputId": "b9a76232-d9ba-47c7-ea28-52cca48f9323"
      },
      "outputs": [
        {
          "name": "stdout",
          "output_type": "stream",
          "text": [
            "1392\n"
          ]
        }
      ],
      "source": [
        "k = 15 + 27 * 51\n",
        "print (k)"
      ]
    },
    {
      "cell_type": "code",
      "execution_count": null,
      "metadata": {
        "colab": {
          "base_uri": "https://localhost:8080/"
        },
        "id": "0DHt4w_5ORT7",
        "outputId": "179133f7-a010-415b-a06f-8c4b1a520196"
      },
      "outputs": [
        {
          "name": "stdout",
          "output_type": "stream",
          "text": [
            "132.08\n"
          ]
        }
      ],
      "source": [
        "c = 55.6\n",
        "f = ( c * 9/5 ) + 32\n",
        "print (f)"
      ]
    },
    {
      "cell_type": "markdown",
      "metadata": {
        "id": "tFYRSaQiOXWC"
      },
      "source": [
        "exercise 5 c = celcius , f = fahrenheit"
      ]
    },
    {
      "cell_type": "code",
      "execution_count": null,
      "metadata": {
        "colab": {
          "base_uri": "https://localhost:8080/"
        },
        "id": "QlhB1UJWOpDa",
        "outputId": "a1c65ae3-38fa-4cd8-fec0-7d97615f3f90"
      },
      "outputs": [
        {
          "name": "stdout",
          "output_type": "stream",
          "text": [
            " he is suffering from feaver\n"
          ]
        }
      ],
      "source": [
        "f = (100)\n",
        "if f < 105 :\n",
        "    print (\" he is suffering from feaver\")\n",
        "else :\n",
        "      print (\"health is good\")"
      ]
    },
    {
      "cell_type": "code",
      "execution_count": null,
      "metadata": {
        "colab": {
          "base_uri": "https://localhost:8080/"
        },
        "id": "6eKVnCw9Otky",
        "outputId": "47ee90f0-fe84-41bc-a916-6055d1047481"
      },
      "outputs": [
        {
          "name": "stdout",
          "output_type": "stream",
          "text": [
            "P = 4\n",
            "A = 10\n",
            "T = 12\n",
            "12.5\n"
          ]
        }
      ],
      "source": [
        "p = float(input('P = '))\n",
        "a = float(input('A = ')) \n",
        "t = float(input('T = ')) \n",
        "r = ((a - p) * 100) / (p * t)\n",
        "print(r)"
      ]
    },
    {
      "cell_type": "markdown",
      "metadata": {
        "id": "bkRYe9MgO7qI"
      },
      "source": [
        "les 1 ex 7"
      ]
    },
    {
      "cell_type": "code",
      "execution_count": null,
      "metadata": {
        "colab": {
          "base_uri": "https://localhost:8080/"
        },
        "id": "BXGprr_RPAFW",
        "outputId": "f8b4b01a-a0a4-453c-d457-69efe62e2b38"
      },
      "outputs": [
        {
          "name": "stdout",
          "output_type": "stream",
          "text": [
            "44\n"
          ]
        }
      ],
      "source": [
        "x = 43\n",
        "x = x + 1\n",
        "print(x)"
      ]
    },
    {
      "cell_type": "markdown",
      "metadata": {
        "id": "GP7BerGsPUsa"
      },
      "source": [
        ""
      ]
    },
    {
      "cell_type": "markdown",
      "metadata": {
        "id": "vooB0Ih-JWwr"
      },
      "source": [
        "***`FUNCTIONS`***:![fun.png](data:image/png;base64,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)\n",
        "\n"
      ]
    },
    {
      "cell_type": "code",
      "execution_count": null,
      "metadata": {
        "colab": {
          "base_uri": "https://localhost:8080/"
        },
        "id": "pN6209aVPifB",
        "outputId": "c128a80d-f717-4da5-c8f8-54773902f0d5"
      },
      "outputs": [
        {
          "name": "stdout",
          "output_type": "stream",
          "text": [
            "\n",
            "You are doing good work, karthi!\n"
          ]
        }
      ],
      "source": [
        "def thankyou(king):\n",
        " print(\"\\nYou are doing good work, %s!\" % king)\n",
        "\n",
        "thankyou('karthi')"
      ]
    },
    {
      "cell_type": "code",
      "execution_count": null,
      "metadata": {
        "colab": {
          "base_uri": "https://localhost:8080/"
        },
        "id": "AJvAPIEWPmD7",
        "outputId": "e6bc9a0e-f78e-4150-b2e8-7bd6d18dd7fb"
      },
      "outputs": [
        {
          "name": "stdout",
          "output_type": "stream",
          "text": [
            "1.0\n"
          ]
        }
      ],
      "source": [
        "A = 5 / 5\n",
        "print (A)"
      ]
    },
    {
      "cell_type": "code",
      "execution_count": null,
      "metadata": {
        "colab": {
          "base_uri": "https://localhost:8080/"
        },
        "id": "sw_FAOQTPryk",
        "outputId": "caed9c9c-02c9-440f-af8c-6a48b992208f"
      },
      "outputs": [
        {
          "name": "stdout",
          "output_type": "stream",
          "text": [
            "\n",
            "You are doing good work, ghghgh!\n"
          ]
        }
      ],
      "source": [
        "thankyou('ghghgh')\n",
        "\n",
        "def thankyou(abc):\n",
        " print(\"\\ndong good, %s!\" % abc)"
      ]
    },
    {
      "cell_type": "code",
      "execution_count": null,
      "metadata": {
        "id": "wXOlov0XP5sR"
      },
      "outputs": [],
      "source": [
        "def raj(x,y):\n",
        "  return x*y;\n",
        "\n",
        "num1=5\n",
        "num2=6\n",
        "print(\"the product is:\" , raj(num))"
      ]
    },
    {
      "cell_type": "markdown",
      "metadata": {
        "id": "qjrN07fgP95m"
      },
      "source": [
        "List"
      ]
    },
    {
      "cell_type": "code",
      "execution_count": null,
      "metadata": {
        "colab": {
          "base_uri": "https://localhost:8080/"
        },
        "id": "Ex2wcB6sQDBo",
        "outputId": "5ff88f8e-65f6-4e07-806d-33628608d9d9"
      },
      "outputs": [
        {
          "data": {
            "text/plain": [
              "[0, 1, 2, 'king']"
            ]
          },
          "execution_count": 48,
          "metadata": {},
          "output_type": "execute_result"
        }
      ],
      "source": [
        "List = [0,1,2,\"king\",4,5]\n",
        "List[0:4]"
      ]
    },
    {
      "cell_type": "code",
      "execution_count": null,
      "metadata": {
        "colab": {
          "base_uri": "https://localhost:8080/"
        },
        "id": "5WNVYCjkQHUY",
        "outputId": "67bfd283-8f22-4f2e-ab38-e0dbbb6befad"
      },
      "outputs": [
        {
          "data": {
            "text/plain": [
              "[1, 2, 'king', 4, 5]"
            ]
          },
          "execution_count": 49,
          "metadata": {},
          "output_type": "execute_result"
        }
      ],
      "source": [
        "List[1:6]"
      ]
    },
    {
      "cell_type": "code",
      "execution_count": null,
      "metadata": {
        "colab": {
          "base_uri": "https://localhost:8080/"
        },
        "id": "uP6qeNlqQKj7",
        "outputId": "0b49804a-bf28-4e1e-ada6-24403baeee65"
      },
      "outputs": [
        {
          "data": {
            "text/plain": [
              "[0, 1, 2, 'king', 4]"
            ]
          },
          "execution_count": 50,
          "metadata": {},
          "output_type": "execute_result"
        }
      ],
      "source": [
        "List[:-1]"
      ]
    },
    {
      "cell_type": "code",
      "execution_count": null,
      "metadata": {
        "colab": {
          "base_uri": "https://localhost:8080/"
        },
        "id": "2853jzc3QOcS",
        "outputId": "4bca4f6b-ff4e-41bd-f6fa-81b0268397de"
      },
      "outputs": [
        {
          "data": {
            "text/plain": [
              "[1, 2, 'king']"
            ]
          },
          "execution_count": 51,
          "metadata": {},
          "output_type": "execute_result"
        }
      ],
      "source": [
        "List[-5:-2]"
      ]
    },
    {
      "cell_type": "code",
      "execution_count": null,
      "metadata": {
        "colab": {
          "base_uri": "https://localhost:8080/"
        },
        "id": "ZS_INDyhQSJn",
        "outputId": "33b5f0c4-b12c-4090-b0c0-164840012969"
      },
      "outputs": [
        {
          "data": {
            "text/plain": [
              "[0, 1, 2, 'king', 4, 5]"
            ]
          },
          "execution_count": 52,
          "metadata": {},
          "output_type": "execute_result"
        }
      ],
      "source": [
        "List[0:9]\n",
        "# after : depits count : , "
      ]
    },
    {
      "cell_type": "code",
      "execution_count": null,
      "metadata": {
        "colab": {
          "base_uri": "https://localhost:8080/",
          "height": 35
        },
        "id": "kHeegKY6QYAq",
        "outputId": "bc2716c9-b879-4326-aeb0-df68dff29563"
      },
      "outputs": [
        {
          "data": {
            "application/vnd.google.colaboratory.intrinsic+json": {
              "type": "string"
            },
            "text/plain": [
              "'michle'"
            ]
          },
          "execution_count": 53,
          "metadata": {},
          "output_type": "execute_result"
        }
      ],
      "source": [
        "l = [\"michle\",10.36,1999]\n",
        "l[-3]"
      ]
    },
    {
      "cell_type": "code",
      "execution_count": null,
      "metadata": {
        "colab": {
          "base_uri": "https://localhost:8080/",
          "height": 35
        },
        "id": "X-1xVJbXQcBV",
        "outputId": "fcc8b146-1921-4138-d791-77da5d4dcd3c"
      },
      "outputs": [
        {
          "data": {
            "application/vnd.google.colaboratory.intrinsic+json": {
              "type": "string"
            },
            "text/plain": [
              "'hd,gte'"
            ]
          },
          "execution_count": 54,
          "metadata": {},
          "output_type": "execute_result"
        }
      ],
      "source": [
        "h = \"hfdk,jgrtwe\"\n",
        "#[::2] startv with 2nd and end with nth\n",
        "#[-2::-3]\n",
        "h[::2]"
      ]
    },
    {
      "cell_type": "code",
      "execution_count": null,
      "metadata": {
        "id": "Rd7P4CuPQfrQ"
      },
      "outputs": [],
      "source": [
        "def palindrome(kk):\n",
        " return kk == kk[::1] \n",
        " kk = \"22022022\"\n",
        " ans = palindrome(kk)\n",
        " if ans :\n",
        "   print(\"yes\")\n",
        " else:\n",
        "  print(\"no\")"
      ]
    },
    {
      "cell_type": "code",
      "execution_count": null,
      "metadata": {
        "colab": {
          "base_uri": "https://localhost:8080/"
        },
        "id": "M25NByGLQzW2",
        "outputId": "6fc26338-9afc-483f-e3be-0930e7df81b0"
      },
      "outputs": [
        {
          "name": "stdout",
          "output_type": "stream",
          "text": [
            "Enter the 1 price : 3\n",
            "Enter the 1 box : 10\n",
            "Enter the 2 price : 8\n",
            "Enter the 2 box : 3.75\n",
            "-1.25\n",
            "inelasatic\n"
          ]
        }
      ],
      "source": [
        "price1 = float(input('Enter the 1 price : '))\n",
        "piece1 = float(input('Enter the 1 box : '))\n",
        "price2 = float(input('Enter the 2 price : '))\n",
        "piece2 = float(input('Enter the 2 box : '))\n",
        "\n",
        "elasticity = (piece2 - piece1) / (price2 - price1)\n",
        "print(elasticity)\n",
        "if (elasticity < 1) :\n",
        " print(\"inelasatic\")\n",
        "elif (elasticity > 1) :\n",
        " print (\"elastc\")"
      ]
    },
    {
      "cell_type": "code",
      "execution_count": null,
      "metadata": {
        "colab": {
          "base_uri": "https://localhost:8080/"
        },
        "id": "Xkv9CAF5RBmo",
        "outputId": "afc67898-a71e-4d76-f861-23130e7260f5"
      },
      "outputs": [
        {
          "name": "stdout",
          "output_type": "stream",
          "text": [
            "Enter the prior price : 5\n",
            "Enter the prior box : 2\n",
            "Enter the latter price : 8\n",
            "Enter the latter box : 1\n",
            "Elasticity =  -0.3333333333333333\n",
            "Character of product =  Relatively inelastic\n"
          ]
        }
      ],
      "source": [
        "def elast(price1,box1,price2,box2):\n",
        "  elasticity = (box2 - box1) / (price2 - price1)\n",
        "  return (elasticity)\n",
        "  \n",
        "def scale_elast(elasticity):\n",
        "  if elasticity == 0 : \n",
        "    return 'Perfectly Inelastic'\n",
        "  elif elasticity < 1 :\n",
        "    return 'Relatively inelastic'\n",
        "  elif elasticity == 1 : \n",
        "    return 'Unit Elastic'\n",
        "  elif elasticity > 1 : \n",
        "    return 'Relatively Elastic'\n",
        "\n",
        "price1 = float(input('Enter the prior price : '))\n",
        "box1 = float(input('Enter the prior box : '))\n",
        "price2 = float(input('Enter the latter price : '))\n",
        "box2 = float(input('Enter the latter box : '))\n",
        "\n",
        "elasticity = elast(price1,box1,price2,box2)\n",
        "print('Elasticity = ',elasticity)\n",
        "\n",
        "character = scale_elast(elasticity)\n",
        "print('Character of product = ', character)"
      ]
    },
    {
      "cell_type": "code",
      "execution_count": null,
      "metadata": {
        "colab": {
          "base_uri": "https://localhost:8080/"
        },
        "id": "FsFcOfDQRMRZ",
        "outputId": "c81ce366-0e70-4d65-f71d-90955044a3ca"
      },
      "outputs": [
        {
          "name": "stdout",
          "output_type": "stream",
          "text": [
            "Please enter the org price 5\n",
            "Please enter new price 9\n",
            "Please enter old amount 10\n",
            "Please enter new amount 15\n",
            "Demand is elastic\n"
          ]
        }
      ],
      "source": [
        "def elasticity():\n",
        "  try:  \n",
        "    p1 = float(input(\"Please enter the org price \"))\n",
        "    p2 = float (input(\"Please enter new price \"))\n",
        "    a1 = float(input(\"Please enter old amount \"))\n",
        "    a2 = float(input(\"Please enter new amount \"))\n",
        "    elasticity = (a2-a1)/(p2-p1)\n",
        "    if elasticity == 0:\n",
        "      return (\"Demand is totally inelastic\")\n",
        "    elif elasticity < 0 :\n",
        "      return (\"Demand is inelastic\")\n",
        "    elif elasticity == 1 :\n",
        "      return (\"Demand is unit elastic\")\n",
        "    elif elasticity > 1:\n",
        "      return(\"Demand is elastic\") \n",
        "  except ZeroDivisionError:\n",
        "    return (\"Demand is infinite\")\n",
        " \n",
        "print(elasticity())"
      ]
    },
    {
      "cell_type": "markdown",
      "metadata": {
        "id": "g3ufZHtwRb91"
      },
      "source": [
        "White Loop"
      ]
    },
    {
      "cell_type": "code",
      "execution_count": null,
      "metadata": {
        "colab": {
          "base_uri": "https://localhost:8080/"
        },
        "id": "-_DCUSF5RfNk",
        "outputId": "be2b68e7-625c-4deb-e060-d2ab8c898581"
      },
      "outputs": [
        {
          "name": "stdout",
          "output_type": "stream",
          "text": [
            "1\n",
            "1.5\n",
            "2.0\n",
            "2.5\n",
            "3.0\n",
            "3.5\n",
            "4.0\n",
            "4.5\n",
            "5.0\n",
            "5.5\n",
            "6.0\n",
            "6.5\n",
            "7.0\n",
            "7.5\n",
            "8.0\n",
            "8.5\n",
            "9.0\n",
            "9.5\n",
            "10.0\n",
            "10.5\n"
          ]
        }
      ],
      "source": [
        "i = 1\n",
        "while i < 11:\n",
        "  print(i)\n",
        "  i += 0.5"
      ]
    },
    {
      "cell_type": "code",
      "execution_count": null,
      "metadata": {
        "colab": {
          "base_uri": "https://localhost:8080/"
        },
        "id": "kuQR7VP2Rkgm",
        "outputId": "c1ec2a5b-361e-4ce7-eaa4-982aa397af05"
      },
      "outputs": [
        {
          "name": "stdout",
          "output_type": "stream",
          "text": [
            "2\n",
            "4\n",
            "6\n"
          ]
        }
      ],
      "source": [
        "i = 2\n",
        "while i < 8:\n",
        "  print(i)\n",
        "  if i == 5:\n",
        "    break\n",
        "  i += 2"
      ]
    },
    {
      "cell_type": "code",
      "execution_count": null,
      "metadata": {
        "colab": {
          "base_uri": "https://localhost:8080/"
        },
        "id": "6rQk0kq4Rsh7",
        "outputId": "31e90a9f-a68f-4523-a611-97421ef68851"
      },
      "outputs": [
        {
          "name": "stdout",
          "output_type": "stream",
          "text": [
            "8\n",
            "11\n",
            "14\n",
            "17\n",
            "20\n",
            "23\n",
            "i is no longer less than 6\n"
          ]
        }
      ],
      "source": [
        "i = 8\n",
        "while i < 25:\n",
        "  print(i)\n",
        "  i += 3\n",
        "else:\n",
        "  print(\"i is no longer less than 6\")"
      ]
    },
    {
      "cell_type": "code",
      "execution_count": null,
      "metadata": {
        "colab": {
          "base_uri": "https://localhost:8080/"
        },
        "id": "OBqcV5tDRxXB",
        "outputId": "bce00a0b-9ae5-45b6-836d-080759a7e545"
      },
      "outputs": [
        {
          "name": "stdout",
          "output_type": "stream",
          "text": [
            "1982\n",
            "It took  1 repetitions to get out of loop.\n"
          ]
        }
      ],
      "source": [
        "dates = [1982, 1980, 1973, 2000, 2014, 2015]\n",
        "\n",
        "i = 0\n",
        "year = 0\n",
        "\n",
        "while(year != 1982):\n",
        "    year = dates[i]\n",
        "    i = i + 1\n",
        "    print(year)\n",
        "\n",
        "print(\"It took \", i ,\"repetitions to get out of loop.\")"
      ]
    },
    {
      "cell_type": "code",
      "execution_count": null,
      "metadata": {
        "colab": {
          "base_uri": "https://localhost:8080/"
        },
        "id": "Ux7ppqoGR5M5",
        "outputId": "1b37abcd-b8db-4804-c49f-3ac3d91eac43"
      },
      "outputs": [
        {
          "name": "stdout",
          "output_type": "stream",
          "text": [
            "> hlo\n",
            "hlo\n",
            "> don\n",
            "don\n",
            "> done\n",
            "Done!\n"
          ]
        }
      ],
      "source": [
        "while True:\n",
        "  line = input('> ')\n",
        "  if line == 'done':\n",
        "    break\n",
        "  print(line)\n",
        "print('Done!')"
      ]
    },
    {
      "cell_type": "markdown",
      "metadata": {
        "id": "_zByO-B9SQUT"
      },
      "source": [
        "For Loop"
      ]
    },
    {
      "cell_type": "code",
      "execution_count": null,
      "metadata": {
        "colab": {
          "base_uri": "https://localhost:8080/"
        },
        "id": "TAYyvhLjSS61",
        "outputId": "6b2e8cb0-cffa-4c3e-e709-e768008688df"
      },
      "outputs": [
        {
          "name": "stdout",
          "output_type": "stream",
          "text": [
            "apple\n",
            "banana\n",
            "cherry\n"
          ]
        }
      ],
      "source": [
        "fruits = [\"apple\", \"banana\", \"cherry\"]\n",
        "\n",
        "for x in fruits:\n",
        "  print(x)"
      ]
    },
    {
      "cell_type": "code",
      "execution_count": null,
      "metadata": {
        "colab": {
          "base_uri": "https://localhost:8080/"
        },
        "id": "29JGx0HiSXUJ",
        "outputId": "810713a4-179c-493d-cca0-628130a23afa"
      },
      "outputs": [
        {
          "name": "stdout",
          "output_type": "stream",
          "text": [
            "j\n",
            "a\n",
            "m\n",
            "e\n",
            "d\n"
          ]
        }
      ],
      "source": [
        "for x in \"jamed\":\n",
        "  print(x)"
      ]
    },
    {
      "cell_type": "code",
      "execution_count": null,
      "metadata": {
        "colab": {
          "base_uri": "https://localhost:8080/"
        },
        "id": "RVZFXAyySc3u",
        "outputId": "05869f30-e291-414b-b0fa-0ab5108c0a3c"
      },
      "outputs": [
        {
          "name": "stdout",
          "output_type": "stream",
          "text": [
            "bhats\n",
            "biscuits\n",
            "bomos\n"
          ]
        }
      ],
      "source": [
        "#fruits = [\"apple\", \"banana\", \"cherry\"]\n",
        "snacks = [\"bhats\",\"samosa\", \"biscuits\",\"bomos\",\"chocolates\",\"oats\"]\n",
        "for menu in snacks:\n",
        "  if (menu[0] == \"b\"):\n",
        "    print(menu)\n",
        "#for x in fruits:\n",
        "#  print(x)"
      ]
    },
    {
      "cell_type": "code",
      "execution_count": null,
      "metadata": {
        "colab": {
          "base_uri": "https://localhost:8080/"
        },
        "id": "2kY3ndcaSw1P",
        "outputId": "f70b17ab-d59a-41ee-b17b-9ab2410fb5f7"
      },
      "outputs": [
        {
          "name": "stdout",
          "output_type": "stream",
          "text": [
            "Before square  0 is red\n",
            "After square  0 is white\n",
            "Before square  1 is yellow\n",
            "After square  1 is white\n",
            "Before square  2 is green\n",
            "After square  2 is white\n",
            "Before square  3 is purple\n",
            "After square  3 is white\n",
            "Before square  4 is blue\n",
            "After square  4 is white\n"
          ]
        }
      ],
      "source": [
        "# Use for loop to change the elements in list\n",
        "\n",
        "squares = ['red', 'yellow', 'green', 'purple', 'blue']\n",
        "\n",
        "for i in range(0, 5):\n",
        "    print(\"Before square \", i, 'is',  squares[i])\n",
        "    squares[i] = 'white'\n",
        "    print(\"After square \", i, 'is',  squares[i])"
      ]
    },
    {
      "cell_type": "code",
      "execution_count": null,
      "metadata": {
        "colab": {
          "base_uri": "https://localhost:8080/"
        },
        "id": "Rjtq-CzESyed",
        "outputId": "8d652506-566f-4adf-d8f0-61f5ad8cf249"
      },
      "outputs": [
        {
          "data": {
            "text/plain": [
              "range(0, 8)"
            ]
          },
          "execution_count": 68,
          "metadata": {},
          "output_type": "execute_result"
        }
      ],
      "source": [
        "# Use the range\n",
        "\n",
        "range(8)"
      ]
    },
    {
      "cell_type": "code",
      "execution_count": null,
      "metadata": {
        "colab": {
          "base_uri": "https://localhost:8080/"
        },
        "id": "cB433GRJS3PI",
        "outputId": "6aef17c7-2299-4f9c-acd1-ff96583383e5"
      },
      "outputs": [
        {
          "name": "stdout",
          "output_type": "stream",
          "text": [
            "0\n",
            "1\n",
            "2\n",
            "3\n",
            "4\n",
            "5\n",
            "6\n",
            "7\n"
          ]
        }
      ],
      "source": [
        "# Example of for loop\n",
        "\n",
        "for i in range(0, 8):\n",
        "    print(i)"
      ]
    },
    {
      "cell_type": "markdown",
      "metadata": {
        "id": "I-RoDoVBTAAo"
      },
      "source": [
        "Panda"
      ]
    },
    {
      "cell_type": "code",
      "execution_count": null,
      "metadata": {
        "id": "CqH-XohSTBqA"
      },
      "outputs": [],
      "source": [
        "import numpy as np\n",
        "import pandas as pd"
      ]
    },
    {
      "cell_type": "code",
      "execution_count": null,
      "metadata": {
        "colab": {
          "base_uri": "https://localhost:8080/",
          "height": 135
        },
        "id": "_QuNrQBCT5dl",
        "outputId": "40c495bf-abe2-41fa-a678-4b95bca9dfa1"
      },
      "outputs": [
        {
          "ename": "IndentationError",
          "evalue": "ignored",
          "output_type": "error",
          "traceback": [
            "\u001b[0;36m  File \u001b[0;32m\"<ipython-input-75-edcd5eeb91c2>\"\u001b[0;36m, line \u001b[0;32m13\u001b[0m\n\u001b[0;31m    temperature  activity\u001b[0m\n\u001b[0m    ^\u001b[0m\n\u001b[0;31mIndentationError\u001b[0m\u001b[0;31m:\u001b[0m unexpected indent\n"
          ]
        }
      ],
      "source": [
        "# Create and populate a 5x2 NumPy array.\n",
        "my_data = np.array([[0, 3], [10, 7], [20, 9], [30, 14], [40, 15]])\n",
        "\n",
        "# Create a Python list that holds the names of the two columns.\n",
        "my_column_names = ['temperature', 'activity']\n",
        "\n",
        "# Create a DataFrame.\n",
        "my_dataframe = pd.DataFrame(data=my_data, columns=my_column_names)\n",
        "\n",
        "# Print the entire DataFrame\n",
        "print(my_dataframe)\n",
        "\n",
        "   temperature  activity\n",
        "0            0         3\n",
        "1           10         7\n",
        "2           20         9\n",
        "3           30        14\n",
        "4           40        15"
      ]
    },
    {
      "cell_type": "code",
      "execution_count": null,
      "metadata": {
        "colab": {
          "base_uri": "https://localhost:8080/",
          "height": 245
        },
        "id": "F8VHmUHUVtro",
        "outputId": "a4310c3a-9a79-4647-ae91-f2b52c8408e3"
      },
      "outputs": [
        {
          "ename": "NameError",
          "evalue": "ignored",
          "output_type": "error",
          "traceback": [
            "\u001b[0;31m---------------------------------------------------------------------------\u001b[0m",
            "\u001b[0;31mNameError\u001b[0m                                 Traceback (most recent call last)",
            "\u001b[0;32m<ipython-input-76-d2b833a839b4>\u001b[0m in \u001b[0;36m<module>\u001b[0;34m()\u001b[0m\n\u001b[1;32m      1\u001b[0m \u001b[0;31m# Create and populate a 5x3 NumPy array.\u001b[0m\u001b[0;34m\u001b[0m\u001b[0;34m\u001b[0m\u001b[0;34m\u001b[0m\u001b[0m\n\u001b[0;32m----> 2\u001b[0;31m \u001b[0mmy_data\u001b[0m \u001b[0;34m=\u001b[0m \u001b[0mnp\u001b[0m\u001b[0;34m.\u001b[0m\u001b[0marray\u001b[0m\u001b[0;34m(\u001b[0m\u001b[0;34m[\u001b[0m\u001b[0;34m[\u001b[0m\u001b[0;36m214501\u001b[0m\u001b[0;34m,\u001b[0m \u001b[0;34m'Ravi'\u001b[0m \u001b[0;34m,\u001b[0m\u001b[0;36m23\u001b[0m\u001b[0;34m]\u001b[0m\u001b[0;34m,\u001b[0m \u001b[0;34m[\u001b[0m\u001b[0;36m245102\u001b[0m\u001b[0;34m,\u001b[0m\u001b[0;34m'Anirudh'\u001b[0m\u001b[0;34m,\u001b[0m \u001b[0;36m7\u001b[0m\u001b[0;34m]\u001b[0m\u001b[0;34m,\u001b[0m \u001b[0;34m[\u001b[0m\u001b[0;36m205309\u001b[0m\u001b[0;34m,\u001b[0m\u001b[0;34m'Aswath'\u001b[0m\u001b[0;34m,\u001b[0m \u001b[0;36m9\u001b[0m\u001b[0;34m]\u001b[0m\u001b[0;34m,\u001b[0m \u001b[0;34m[\u001b[0m\u001b[0;36m30456\u001b[0m\u001b[0;34m,\u001b[0m\u001b[0;34m'Sidharth'\u001b[0m\u001b[0;34m,\u001b[0m \u001b[0;36m14\u001b[0m\u001b[0;34m]\u001b[0m\u001b[0;34m,\u001b[0m \u001b[0;34m[\u001b[0m\u001b[0;36m40567\u001b[0m\u001b[0;34m,\u001b[0m\u001b[0;34m'Amey'\u001b[0m\u001b[0;34m,\u001b[0m \u001b[0;36m15\u001b[0m\u001b[0;34m]\u001b[0m\u001b[0;34m]\u001b[0m\u001b[0;34m)\u001b[0m\u001b[0;34m\u001b[0m\u001b[0;34m\u001b[0m\u001b[0m\n\u001b[0m\u001b[1;32m      3\u001b[0m \u001b[0;31m# Create a Python list that holds the names of the three columns.\u001b[0m\u001b[0;34m\u001b[0m\u001b[0;34m\u001b[0m\u001b[0;34m\u001b[0m\u001b[0m\n\u001b[1;32m      4\u001b[0m \u001b[0mmy_column_names\u001b[0m \u001b[0;34m=\u001b[0m \u001b[0;34m[\u001b[0m\u001b[0;34m'Reg No'\u001b[0m\u001b[0;34m,\u001b[0m \u001b[0;34m'Name'\u001b[0m\u001b[0;34m,\u001b[0m \u001b[0;34m'Marks'\u001b[0m\u001b[0;34m]\u001b[0m\u001b[0;34m\u001b[0m\u001b[0;34m\u001b[0m\u001b[0m\n\u001b[1;32m      5\u001b[0m \u001b[0;31m# Create a DataFrame.\u001b[0m\u001b[0;34m\u001b[0m\u001b[0;34m\u001b[0m\u001b[0;34m\u001b[0m\u001b[0m\n",
            "\u001b[0;31mNameError\u001b[0m: name 'np' is not defined"
          ]
        }
      ],
      "source": [
        "# Create and populate a 5x3 NumPy array.\n",
        "my_data = np.array([[214501, 'Ravi' ,23], [245102,'Anirudh', 7], [205309,'Aswath', 9], [30456,'Sidharth', 14], [40567,'Amey', 15]])\n",
        "# Create a Python list that holds the names of the three columns.\n",
        "my_column_names = ['Reg No', 'Name', 'Marks']\n",
        "# Create a DataFrame.\n",
        "my_dataframe = pd.DataFrame(data=my_data, columns=my_column_names)\n",
        "\n",
        "# Print the entire DataFrame\n",
        "print(my_dataframe)"
      ]
    },
    {
      "cell_type": "code",
      "execution_count": null,
      "metadata": {
        "colab": {
          "base_uri": "https://localhost:8080/",
          "height": 246,
          "resources": {
            "http://localhost:8080/nbextensions/google.colab/files.js": {
              "data": "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",
              "headers": [
                [
                  "content-type",
                  "application/javascript"
                ]
              ],
              "ok": true,
              "status": 200,
              "status_text": ""
            }
          }
        },
        "id": "JiVHT6HwV2ym",
        "outputId": "c2996f48-0f22-43d4-cea9-6642f3e0301d"
      },
      "outputs": [
        {
          "data": {
            "text/html": [
              "\n",
              "     <input type=\"file\" id=\"files-cbe39b31-ba9a-4ce3-bc38-42853eba272e\" name=\"files[]\" multiple disabled\n",
              "        style=\"border:none\" />\n",
              "     <output id=\"result-cbe39b31-ba9a-4ce3-bc38-42853eba272e\">\n",
              "      Upload widget is only available when the cell has been executed in the\n",
              "      current browser session. Please rerun this cell to enable.\n",
              "      </output>\n",
              "      <script src=\"/nbextensions/google.colab/files.js\"></script> "
            ],
            "text/plain": [
              "<IPython.core.display.HTML object>"
            ]
          },
          "metadata": {},
          "output_type": "display_data"
        },
        {
          "ename": "KeyError",
          "evalue": "ignored",
          "output_type": "error",
          "traceback": [
            "\u001b[0;31m---------------------------------------------------------------------------\u001b[0m",
            "\u001b[0;31mKeyError\u001b[0m                                  Traceback (most recent call last)",
            "\u001b[0;32m<ipython-input-77-b48cfde5ff75>\u001b[0m in \u001b[0;36m<module>\u001b[0;34m()\u001b[0m\n\u001b[1;32m      3\u001b[0m \u001b[0muploaded\u001b[0m \u001b[0;34m=\u001b[0m \u001b[0mfiles\u001b[0m\u001b[0;34m.\u001b[0m\u001b[0mupload\u001b[0m\u001b[0;34m(\u001b[0m\u001b[0;34m)\u001b[0m\u001b[0;34m\u001b[0m\u001b[0;34m\u001b[0m\u001b[0m\n\u001b[1;32m      4\u001b[0m \u001b[0;32mimport\u001b[0m \u001b[0mio\u001b[0m\u001b[0;34m\u001b[0m\u001b[0;34m\u001b[0m\u001b[0m\n\u001b[0;32m----> 5\u001b[0;31m \u001b[0mdf2\u001b[0m \u001b[0;34m=\u001b[0m \u001b[0mpd\u001b[0m\u001b[0;34m.\u001b[0m\u001b[0mread_csv\u001b[0m\u001b[0;34m(\u001b[0m\u001b[0mio\u001b[0m\u001b[0;34m.\u001b[0m\u001b[0mBytesIO\u001b[0m\u001b[0;34m(\u001b[0m\u001b[0muploaded\u001b[0m\u001b[0;34m[\u001b[0m\u001b[0;34m'IBBA_2145xx.csv'\u001b[0m\u001b[0;34m]\u001b[0m\u001b[0;34m)\u001b[0m\u001b[0;34m)\u001b[0m\u001b[0;34m\u001b[0m\u001b[0;34m\u001b[0m\u001b[0m\n\u001b[0m\u001b[1;32m      6\u001b[0m \u001b[0mprint\u001b[0m \u001b[0;34m(\u001b[0m\u001b[0mdf2\u001b[0m\u001b[0;34m)\u001b[0m\u001b[0;34m\u001b[0m\u001b[0;34m\u001b[0m\u001b[0m\n",
            "\u001b[0;31mKeyError\u001b[0m: 'IBBA_2145xx.csv'"
          ]
        }
      ],
      "source": [
        "import pandas as pd\n",
        "from google.colab import files\n",
        "uploaded = files.upload()\n",
        "import io\n",
        "df2 = pd.read_csv(io.BytesIO(uploaded['IBBA_2145xx.csv']))\n",
        "print (df2)"
      ]
    },
    {
      "cell_type": "markdown",
      "metadata": {
        "id": "A0SnKlg0WKpY"
      },
      "source": [
        "exercise 5 chap 4"
      ]
    },
    {
      "cell_type": "markdown",
      "metadata": {
        "id": "AqdvMPviWQi1"
      },
      "source": [
        "# This is formatted as code"
      ]
    },
    {
      "cell_type": "code",
      "execution_count": null,
      "metadata": {
        "colab": {
          "base_uri": "https://localhost:8080/"
        },
        "id": "ZTsg4BOeWV3S",
        "outputId": "38c3527d-f3e1-4d7c-c134-d666ee0054a5"
      },
      "outputs": [
        {
          "name": "stdout",
          "output_type": "stream",
          "text": [
            "ABC\n",
            "Zap\n",
            "ABC\n"
          ]
        }
      ],
      "source": [
        "def fred():\n",
        "  print(\"Zap\")\n",
        "def jane():\n",
        "  print(\"ABC\")\n",
        "jane()\n",
        "fred()\n",
        "jane()"
      ]
    },
    {
      "cell_type": "markdown",
      "metadata": {
        "id": "UW1kzDAoWj86"
      },
      "source": [
        "exercise 6 chapter 4"
      ]
    },
    {
      "cell_type": "code",
      "execution_count": null,
      "metadata": {
        "colab": {
          "base_uri": "https://localhost:8080/"
        },
        "id": "LPaPIIIiWncx",
        "outputId": "c3798916-b745-4c60-cd45-18ca076f3fc6"
      },
      "outputs": [
        {
          "name": "stdout",
          "output_type": "stream",
          "text": [
            "Enter your score\n",
            "1\n",
            "A\n"
          ]
        }
      ],
      "source": [
        "def computegrade(score):\n",
        "  if(score<0.0 or score>1.0) :\n",
        "    return(\"Score is out of range!!\")\n",
        "  elif(score>=0.9):\n",
        "    return(\"A\")\n",
        "  elif(score>=0.8):\n",
        "    return(\"B\")\n",
        "  elif(score>=0.7):\n",
        "    return(\"C\")\n",
        "  elif(score>=0.6):\n",
        "    return(\"D\")      \n",
        "  else:\n",
        "    return(\"F\")\n",
        "try:\n",
        "  score=float(input(\"Enter your score\\n\"))\n",
        "  print(computegrade(score))\n",
        "except Exception :\n",
        "  print('Enter a number!!!!!')"
      ]
    },
    {
      "cell_type": "markdown",
      "metadata": {
        "id": "Bt7TiIbdW2i2"
      },
      "source": [
        "exercise 1 chap iration"
      ]
    },
    {
      "cell_type": "code",
      "execution_count": null,
      "metadata": {
        "id": "qnd-4YyoXt1s"
      },
      "outputs": [],
      "source": [
        ""
      ]
    },
    {
      "cell_type": "code",
      "execution_count": null,
      "metadata": {
        "colab": {
          "background_save": true,
          "base_uri": "https://localhost:8080/"
        },
        "id": "yIU--QxSXyBR",
        "outputId": "5ed1d501-b741-4be4-a4d6-1d7e8e888904"
      },
      "outputs": [
        {
          "name": "stdout",
          "output_type": "stream",
          "text": [
            "Invalid input\n"
          ]
        }
      ],
      "source": [
        "count=0\n",
        "total=0\n",
        "while True :\n",
        "  value=input('Enter the number\\n')\n",
        "  if (value=='done'):\n",
        "    break\n",
        "  try:\n",
        "    value1=float(value)\n",
        "  except:\n",
        "    print('Invalid input')\n",
        "  total=total+value1\n",
        "  count=count+1\n",
        "print(total,count,total/count)\n"
      ]
    },
    {
      "cell_type": "markdown",
      "metadata": {
        "id": "aR8xKcAKYbc1"
      },
      "source": [
        "ex 2 chap itration"
      ]
    },
    {
      "cell_type": "code",
      "execution_count": null,
      "metadata": {
        "id": "1087Di25YjQe"
      },
      "outputs": [],
      "source": [
        "count=0\n",
        "list=[]\n",
        "while True :\n",
        "  element=input('Enter the number\\n')\n",
        "  if (element=='done'):\n",
        "    break\n",
        "  try:\n",
        "    value1=float(element)\n",
        "    list.append(value1)\n",
        "    \n",
        "  except:\n",
        "    print('Invalid input')\n",
        "\n",
        "  if count==0 :\n",
        "    min_val=value1\n",
        "    max_val=value1\n",
        "  elif value1<min_val:\n",
        "    min_val=value1\n",
        "  elif value1>max_val:\n",
        "    max_val=value1\n",
        "\n",
        "  count=count+1\n",
        "print('The list of ements are :',list)\n",
        "print(min_val , max_val)"
      ]
    },
    {
      "cell_type": "markdown",
      "source": [
        "![image.png](data:image/png;base64,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)"
      ],
      "metadata": {
        "id": "lVr9ucIy8CNP"
      }
    },
    {
      "cell_type": "markdown",
      "source": [
        ">EXCERCISE 8.1 \n",
        "  List Item\n",
        "  List Item"
      ],
      "metadata": {
        "id": "m1N17Dc5-cvd"
      }
    },
    {
      "cell_type": "code",
      "source": [
        "words =[]\n",
        "from google.colab import drive\n",
        "drive.mount('/content/drive', force_remount=1) \n",
        "fhand = open('romeo.txt.txt' , 'r')\n",
        "for line in  fhand :\n",
        " for word in line.split(' '):\n",
        "    if word not in words :\n",
        "        words.append(word)\n",
        "print(sorted(words))\n",
        "#not in order"
      ],
      "metadata": {
        "colab": {
          "base_uri": "https://localhost:8080/"
        },
        "id": "_xPQXLZ8-8Fp",
        "outputId": "8b0875ee-35c1-4d40-b0be-28ea59ef95eb"
      },
      "execution_count": 4,
      "outputs": [
        {
          "output_type": "stream",
          "name": "stdout",
          "text": [
            "Mounted at /content/drive\n",
            "['Arise', 'But', 'It', 'Juliet', 'Who', 'already', 'and', 'breaks\\n', 'east', 'envious', 'fair', 'grief', 'is', 'kill', 'light', 'moon\\n', 'pale', 'sick', 'soft', 'sun', 'sun\\n', 'the', 'through', 'what', 'window', 'with', 'yonder']\n"
          ]
        }
      ]
    },
    {
      "cell_type": "markdown",
      "source": [
        "EXCERCISE 8.5"
      ],
      "metadata": {
        "id": "VZYnO8zhAnaM"
      }
    },
    {
      "cell_type": "code",
      "source": [
        "from google.colab import drive\n",
        "drive.mount('/content/drive', force_remount=1)\n",
        "data = input(\"Enter the name of the file you want to be processed\")\n",
        "\n",
        "email_data = open(data).read()\n",
        "words = email_data.split()\n",
        "i = 0\n",
        "count=0\n",
        "length = len(words)\n",
        "\n",
        "while i < length:\n",
        "    if words[i] == \"From\":\n",
        "      #new_word=words[i]\n",
        "      count +=1\n",
        "    i=i+1\n",
        "print(\"There were\" , count ,\"  lines in the file which starts with the word  from\")"
      ],
      "metadata": {
        "colab": {
          "base_uri": "https://localhost:8080/"
        },
        "id": "UVNnU6gEAu_n",
        "outputId": "26aa7605-844d-4ba1-a38e-95af3407bd2c"
      },
      "execution_count": 5,
      "outputs": [
        {
          "output_type": "stream",
          "name": "stdout",
          "text": [
            "Mounted at /content/drive\n",
            "Enter the name of the file you want to be processedromeo.txt.txt\n",
            "There were 0   lines in the file which starts with the word  from\n"
          ]
        }
      ]
    },
    {
      "cell_type": "markdown",
      "source": [
        "EXCERCISE 8.6"
      ],
      "metadata": {
        "id": "ibavZw9EBs38"
      }
    },
    {
      "cell_type": "code",
      "source": [
        "my_nums = []\n",
        "\n",
        "while True:\n",
        "  a = input(\"Enter a number:\")\n",
        "  if a == 'done' :\n",
        "    break\n",
        "  try:\n",
        "    val = float(a)\n",
        "  except:\n",
        "    print(\"invalid input\")\n",
        "    continue\n",
        "  my_nums.append(val)\n",
        " \n",
        "\n",
        "print(min(my_nums) )\n",
        "print(max(my_nums))"
      ],
      "metadata": {
        "colab": {
          "base_uri": "https://localhost:8080/"
        },
        "id": "BnnAZSv_B2be",
        "outputId": "d7897639-a92c-4d3b-cd41-545074159176"
      },
      "execution_count": 6,
      "outputs": [
        {
          "output_type": "stream",
          "name": "stdout",
          "text": [
            "Enter a number:2\n",
            "Enter a number:3\n",
            "Enter a number:4\n",
            "Enter a number:5\n",
            "Enter a number:6\n",
            "Enter a number:done\n",
            "2.0\n",
            "6.0\n"
          ]
        }
      ]
    },
    {
      "cell_type": "markdown",
      "source": [
        "![image.png](data:image/png;base64,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)\n",
        "\n"
      ],
      "metadata": {
        "id": "hada6qal8-sg"
      }
    },
    {
      "cell_type": "markdown",
      "source": [
        "EXCERCISE 9.1"
      ],
      "metadata": {
        "id": "wAdJyyl1CHzN"
      }
    },
    {
      "cell_type": "code",
      "source": [
        "from google.colab import drive\n",
        "drive.mount('/content/drive', force_remount=1)\n",
        "data = input(\"Enter the name of the file you want to be processed\")\n",
        "email_data = open(data).read()\n",
        "days = dict()\n",
        "words = email_data.split()\n",
        "\n",
        "i = 0\n",
        "length = len(words)\n",
        "\n",
        "while i < length:\n",
        "    if words[i] == \"From\":\n",
        "        days[words[i+2]] = days.get(words[i+2],0) + 1\n",
        "    i = i + 1\n",
        "\n",
        "print(days)\n",
        "#howmNY mails on particular day"
      ],
      "metadata": {
        "colab": {
          "base_uri": "https://localhost:8080/"
        },
        "id": "VVD9l7lzCNJM",
        "outputId": "4738c435-2452-453f-9755-810a4f06be46"
      },
      "execution_count": 7,
      "outputs": [
        {
          "output_type": "stream",
          "name": "stdout",
          "text": [
            "Mounted at /content/drive\n",
            "Enter the name of the file you want to be processedmbox.txt\n",
            "{'Sat': 183, 'Fri': 945, 'Thu': 1176, 'Wed': 876, 'Tue': 1116, 'Mon': 897, 'Sun': 198, 'Page': 3}\n"
          ]
        }
      ]
    },
    {
      "cell_type": "markdown",
      "source": [
        "EXCERCISE 9.3"
      ],
      "metadata": {
        "id": "ogs460J1CWVz"
      }
    },
    {
      "cell_type": "code",
      "source": [
        "from google.colab import drive\n",
        "drive.mount('/content/drive', force_remount=1)\n",
        "data = input(\"Enter the name of the file you want to be processed\")\n",
        "email_data = open(data).read()\n",
        "sender = dict()\n",
        "#days = dict()\n",
        "words = email_data.split()\n",
        "\n",
        "i = 0\n",
        "length = len(words)\n",
        "\n",
        "while i < length:\n",
        "    if words[i] == \"From\":\n",
        "        #days[words[i+2]] = days.get(words[i+2],0) + 1\n",
        "        sender[words[i+1]] = sender.get(words[i+1],0) + 1\n",
        "    i = i + 1\n",
        "\n",
        "#print(days)\n",
        "print(sender)"
      ],
      "metadata": {
        "colab": {
          "base_uri": "https://localhost:8080/"
        },
        "id": "IpOr_TkuCcHz",
        "outputId": "23126db7-0635-44ac-ac70-d050d51f7a9e"
      },
      "execution_count": 8,
      "outputs": [
        {
          "output_type": "stream",
          "name": "stdout",
          "text": [
            "Mounted at /content/drive\n",
            "Enter the name of the file you want to be processedromeo.txt.txt\n",
            "{}\n"
          ]
        }
      ]
    },
    {
      "cell_type": "markdown",
      "source": [
        "9.4"
      ],
      "metadata": {
        "id": "p2MmJPS5Ck8-"
      }
    },
    {
      "cell_type": "code",
      "source": [
        "from google.colab import drive\n",
        "drive.mount('/content/drive', force_remount=1)\n",
        "data = input(\"Enter the name of the file you want to be processed\")\n",
        "email_data = open(data).read()\n",
        "domains = dict()\n",
        "\n",
        "words = email_data.split()\n",
        "\n",
        "i = 0\n",
        "length = len(words)\n",
        "\n",
        "while i < length:\n",
        "    if words[i] == \"From\":\n",
        "        emails=words[i+1]\n",
        "        domain=emails.split('@')\n",
        "        domains[domain[1]]=domains.get(domain[1],0)+1\n",
        "    i = i + 1\n",
        "\n",
        "\n",
        "print(domains)"
      ],
      "metadata": {
        "colab": {
          "base_uri": "https://localhost:8080/"
        },
        "id": "4ZuxkRX-CnFu",
        "outputId": "810c8e33-42cc-424f-a3c3-6768014d2c11"
      },
      "execution_count": 10,
      "outputs": [
        {
          "output_type": "stream",
          "name": "stdout",
          "text": [
            "Mounted at /content/drive\n",
            "Enter the name of the file you want to be processedmbox-short.txt\n",
            "{'uct.ac.za': 6, 'media.berkeley.edu': 4, 'umich.edu': 7, 'iupui.edu': 8, 'caret.cam.ac.uk': 1, 'gmail.com': 1}\n"
          ]
        }
      ]
    },
    {
      "cell_type": "markdown",
      "source": [
        "EXCERCISE 9.5"
      ],
      "metadata": {
        "id": "eZWgSxOKCxmg"
      }
    },
    {
      "cell_type": "code",
      "source": [
        "from google.colab import drive\n",
        "drive.mount('/content/drive', force_remount=1)\n",
        "data = input(\"Enter the name of the file you want to be processed\")\n",
        "email_data = open(data).read()\n",
        "sender = dict()\n",
        "#days = dict()\n",
        "words = email_data.split()\n",
        "\n",
        "i = 0\n",
        "length = len(words)\n",
        "\n",
        "while i < length:\n",
        "    if words[i] == \"From\":\n",
        "        #days[words[i+2]] = days.get(words[i+2],0) + 1\n",
        "        sender[words[i+1]] = sender.get(words[i+1],0) + 1\n",
        "    i=i+1\n",
        "#print(sender)    \n",
        "max_address = None\n",
        "max_emails = 0\n",
        "for k in sender:\n",
        "    if sender[k] > max_emails:\n",
        "      max_address = k\n",
        "      max_emails = sender[k]\n",
        "\n",
        "#print(days)\n",
        "print(max_address,max_emails)"
      ],
      "metadata": {
        "colab": {
          "base_uri": "https://localhost:8080/"
        },
        "id": "korVBWsmC24s",
        "outputId": "d0f24ca6-8f7a-480f-edd3-2919018c3f24"
      },
      "execution_count": 11,
      "outputs": [
        {
          "output_type": "stream",
          "name": "stdout",
          "text": [
            "Mounted at /content/drive\n",
            "Enter the name of the file you want to be processedromeo.txt.txt\n",
            "None 0\n"
          ]
        }
      ]
    },
    {
      "cell_type": "markdown",
      "source": [
        "TUPLELS"
      ],
      "metadata": {
        "id": "vXrbrfFJC_WU"
      }
    },
    {
      "cell_type": "code",
      "source": [
        "data = input(\"Enter the name of the file you want to be processed\")\n",
        "email_data = open(data).read()\n",
        "sender = dict()\n",
        "#days = dict()\n",
        "words = email_data.split()\n",
        "\n",
        "i = 0\n",
        "length = len(words)\n",
        "\n",
        "while i < length:\n",
        "    if words[i] == \"From\":\n",
        "        #days[words[i+2]] = days.get(words[i+2],0) + 1\n",
        "        sender[words[i+1]] = sender.get(words[i+1],0) + 1\n",
        "    i = i + 1\n",
        "\n",
        "#print(days)\n",
        "#print(sender)\n",
        "\n",
        "lst=[]\n",
        "\n",
        "for key,value in sender.items():#creates a list of dictnary;s (key,value) pair in tuple pairs\n",
        "  lst.append((value,key))\n",
        "  \n",
        "lst.sort(reverse=True)\n",
        "print(lst[0])"
      ],
      "metadata": {
        "colab": {
          "base_uri": "https://localhost:8080/"
        },
        "id": "0FAyFJpCDFMZ",
        "outputId": "cfd47b53-c30d-42ea-a482-cdb1899dfbe1"
      },
      "execution_count": 12,
      "outputs": [
        {
          "output_type": "stream",
          "name": "stdout",
          "text": [
            "Enter the name of the file you want to be processedmbox.txt\n",
            "(585, 'zqian@umich.edu')\n"
          ]
        }
      ]
    },
    {
      "cell_type": "code",
      "source": [
        "data = input(\"Enter the name of the file you want to be processed\")\n",
        "email_data = open(data).read()\n",
        "hours_of_day = dict()\n",
        "#days = dict()\n",
        "words = email_data.split()\n",
        "i = 0\n",
        "length = len(words)\n",
        "\n",
        "while i < length:\n",
        "    if words[i] == \"From\":\n",
        "        #days[words[i+2]] = days.get(words[i+2],0) + 1\n",
        "        #sender[words[i+1]] = sender.get(words[i+1],0) + 1\n",
        "        time=words[i+5]\n",
        "        time = time.split(\":\")\n",
        "        hours_of_day[time[0]] = hours_of_day.get(time[0],0) + 1\n",
        "    i = i + 1\n",
        "#print(hours_of_day)\n",
        "lst=[]\n",
        "\n",
        "for key,value in hours_of_day.items():#creates a list of dictnary;s (key,value) pair in tuple pairs\n",
        "  lst.append((key,value))\n",
        "  \n",
        "lst.sort()\n",
        "#print(lst)\n",
        "for t in lst :\n",
        "  print(t[0],t[1])"
      ],
      "metadata": {
        "colab": {
          "base_uri": "https://localhost:8080/"
        },
        "id": "8lf_3GIHDUgF",
        "outputId": "a415c0cc-2d3f-431e-9a0b-356f1b6db0d6"
      },
      "execution_count": 13,
      "outputs": [
        {
          "output_type": "stream",
          "name": "stdout",
          "text": [
            "Enter the name of the file you want to be processedmbox-short.txt\n",
            "04 3\n",
            "06 1\n",
            "07 1\n",
            "09 2\n",
            "10 3\n",
            "11 6\n",
            "14 1\n",
            "15 2\n",
            "16 4\n",
            "17 2\n",
            "18 1\n",
            "19 1\n"
          ]
        }
      ]
    }
  ],
  "metadata": {
    "colab": {
      "collapsed_sections": [],
      "name": "Mahendra python",
      "provenance": [],
      "include_colab_link": true
    },
    "kernelspec": {
      "display_name": "Python 3",
      "name": "python3"
    }
  },
  "nbformat": 4,
  "nbformat_minor": 0
}